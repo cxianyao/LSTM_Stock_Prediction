{
  "nbformat": 4,
  "nbformat_minor": 0,
  "metadata": {
    "colab": {
      "name": "LSTM_final",
      "provenance": [],
      "collapsed_sections": []
    },
    "kernelspec": {
      "name": "python3",
      "display_name": "Python 3"
    },
    "language_info": {
      "name": "python"
    }
  },
  "cells": [
    {
      "cell_type": "code",
      "execution_count": 1,
      "metadata": {
        "id": "WIaQ9jRQtxVl"
      },
      "outputs": [],
      "source": [
        "# Import modules and packages\n",
        "import numpy as np\n",
        "import pandas as pd\n",
        "import matplotlib.pyplot as plt\n",
        "import datetime as dt\n",
        "from datetime import datetime\n",
        "\n",
        "from keras.callbacks import EarlyStopping, ReduceLROnPlateau, ModelCheckpoint, TensorBoard\n",
        "\n",
        "%matplotlib inline"
      ]
    },
    {
      "cell_type": "code",
      "source": [
        "import os\n",
        "os.environ['PYTHONHASHSEED']= '100'\n",
        "os.environ['TF_CUDNN_DETERMINISTIC']= '1'\n",
        "\n",
        "import numpy as np\n",
        "import tensorflow as tf\n",
        "import random as python_random\n",
        "\n",
        "np.random.seed(100)\n",
        "python_random.seed(100)\n",
        "tf.random.set_seed(100)"
      ],
      "metadata": {
        "id": "W0lEPsnLrLYp"
      },
      "execution_count": 2,
      "outputs": []
    },
    {
      "cell_type": "code",
      "source": [
        "pip install yfinance"
      ],
      "metadata": {
        "colab": {
          "base_uri": "https://localhost:8080/",
          "height": 0
        },
        "id": "etuicVDTuSfl",
        "outputId": "04f2f27e-a59a-4951-eb94-ba9204feb4ec"
      },
      "execution_count": 3,
      "outputs": [
        {
          "output_type": "stream",
          "name": "stdout",
          "text": [
            "Looking in indexes: https://pypi.org/simple, https://us-python.pkg.dev/colab-wheels/public/simple/\n",
            "Requirement already satisfied: yfinance in /usr/local/lib/python3.7/dist-packages (0.1.74)\n",
            "Requirement already satisfied: requests>=2.26 in /usr/local/lib/python3.7/dist-packages (from yfinance) (2.28.1)\n",
            "Requirement already satisfied: multitasking>=0.0.7 in /usr/local/lib/python3.7/dist-packages (from yfinance) (0.0.11)\n",
            "Requirement already satisfied: lxml>=4.5.1 in /usr/local/lib/python3.7/dist-packages (from yfinance) (4.9.1)\n",
            "Requirement already satisfied: numpy>=1.15 in /usr/local/lib/python3.7/dist-packages (from yfinance) (1.21.6)\n",
            "Requirement already satisfied: pandas>=0.24.0 in /usr/local/lib/python3.7/dist-packages (from yfinance) (1.3.5)\n",
            "Requirement already satisfied: python-dateutil>=2.7.3 in /usr/local/lib/python3.7/dist-packages (from pandas>=0.24.0->yfinance) (2.8.2)\n",
            "Requirement already satisfied: pytz>=2017.3 in /usr/local/lib/python3.7/dist-packages (from pandas>=0.24.0->yfinance) (2022.1)\n",
            "Requirement already satisfied: six>=1.5 in /usr/local/lib/python3.7/dist-packages (from python-dateutil>=2.7.3->pandas>=0.24.0->yfinance) (1.15.0)\n",
            "Requirement already satisfied: charset-normalizer<3,>=2 in /usr/local/lib/python3.7/dist-packages (from requests>=2.26->yfinance) (2.1.0)\n",
            "Requirement already satisfied: certifi>=2017.4.17 in /usr/local/lib/python3.7/dist-packages (from requests>=2.26->yfinance) (2022.6.15)\n",
            "Requirement already satisfied: urllib3<1.27,>=1.21.1 in /usr/local/lib/python3.7/dist-packages (from requests>=2.26->yfinance) (1.24.3)\n",
            "Requirement already satisfied: idna<4,>=2.5 in /usr/local/lib/python3.7/dist-packages (from requests>=2.26->yfinance) (2.10)\n"
          ]
        }
      ]
    },
    {
      "cell_type": "code",
      "source": [
        "import yfinance as yf\n",
        "stock_symbol = '1155.KL'\n",
        "\n",
        "# 3 years data\n",
        "#dataset_train = yf.download(tickers=stock_symbol,start=\"2019-06-20\", end=\"2022-06-20\",interval='1d')\n",
        "\n",
        "# 1 year data\n",
        "#dataset_train = yf.download(tickers=stock_symbol,start=\"2021-06-20\", end=\"2022-06-20\",interval='1d')\n",
        "\n",
        "# 5 year data\n",
        "dataset_train = yf.download(tickers=stock_symbol,start=\"2017-06-20\", end=\"2022-06-20\",interval='1d')\n",
        "\n",
        "\n",
        "#dataset_train = yf.download(tickers=stock_symbol,period='5y',interval='1d')"
      ],
      "metadata": {
        "colab": {
          "base_uri": "https://localhost:8080/",
          "height": 0
        },
        "id": "BJqt13NWuSiX",
        "outputId": "5ce54184-ea6d-4e94-a3ce-9a3494afb691"
      },
      "execution_count": 4,
      "outputs": [
        {
          "output_type": "stream",
          "name": "stdout",
          "text": [
            "\r[*********************100%***********************]  1 of 1 completed\n"
          ]
        }
      ]
    },
    {
      "cell_type": "code",
      "source": [
        "dataset_train.drop(dataset_train.tail(1).index,inplace=True)"
      ],
      "metadata": {
        "id": "IPHlWKgiusd_"
      },
      "execution_count": 5,
      "outputs": []
    },
    {
      "cell_type": "code",
      "source": [
        "dataset_train.reset_index(level=0, inplace=True)"
      ],
      "metadata": {
        "id": "uwBGq6TZu82x"
      },
      "execution_count": 6,
      "outputs": []
    },
    {
      "cell_type": "code",
      "source": [
        "dataset_train.info()"
      ],
      "metadata": {
        "colab": {
          "base_uri": "https://localhost:8080/",
          "height": 0
        },
        "id": "T_CTBu9erI5N",
        "outputId": "bc32492a-3148-4ea2-e6dc-ec8d5d4a948d"
      },
      "execution_count": 7,
      "outputs": [
        {
          "output_type": "stream",
          "name": "stdout",
          "text": [
            "<class 'pandas.core.frame.DataFrame'>\n",
            "RangeIndex: 1230 entries, 0 to 1229\n",
            "Data columns (total 7 columns):\n",
            " #   Column     Non-Null Count  Dtype         \n",
            "---  ------     --------------  -----         \n",
            " 0   Date       1230 non-null   datetime64[ns]\n",
            " 1   Open       1230 non-null   float64       \n",
            " 2   High       1230 non-null   float64       \n",
            " 3   Low        1230 non-null   float64       \n",
            " 4   Close      1230 non-null   float64       \n",
            " 5   Adj Close  1230 non-null   float64       \n",
            " 6   Volume     1230 non-null   int64         \n",
            "dtypes: datetime64[ns](1), float64(5), int64(1)\n",
            "memory usage: 67.4 KB\n"
          ]
        }
      ]
    },
    {
      "cell_type": "code",
      "source": [
        "dataset_train['Date'] = dataset_train['Date'].astype(str)\n"
      ],
      "metadata": {
        "id": "_m0g9_virowq"
      },
      "execution_count": 8,
      "outputs": []
    },
    {
      "cell_type": "code",
      "source": [
        "dataset_train"
      ],
      "metadata": {
        "colab": {
          "base_uri": "https://localhost:8080/",
          "height": 424
        },
        "id": "qykEK_FYr_1h",
        "outputId": "b4447bcf-bea1-4bd7-8743-a36d569648d7"
      },
      "execution_count": 9,
      "outputs": [
        {
          "output_type": "execute_result",
          "data": {
            "text/plain": [
              "            Date  Open  High   Low  Close  Adj Close    Volume\n",
              "0     2017-06-20  9.63  9.65  9.62   9.64   6.708943  24095000\n",
              "1     2017-06-21  9.62  9.64  9.55   9.59   6.674145  17090300\n",
              "2     2017-06-22  9.56  9.60  9.51   9.58   6.667186   7971500\n",
              "3     2017-06-23  9.58  9.60  9.58   9.60   6.681105   9432400\n",
              "4     2017-06-26  9.60  9.60  9.60   9.60   6.681105         0\n",
              "...          ...   ...   ...   ...    ...        ...       ...\n",
              "1225  2022-06-10  8.80  8.81  8.75   8.75   8.750000   5540600\n",
              "1226  2022-06-13  8.71  8.72  8.60   8.68   8.680000   9847100\n",
              "1227  2022-06-14  8.64  8.72  8.61   8.68   8.680000  12044600\n",
              "1228  2022-06-15  8.68  8.69  8.60   8.63   8.630000   6405300\n",
              "1229  2022-06-16  8.67  8.72  8.66   8.72   8.720000   5464600\n",
              "\n",
              "[1230 rows x 7 columns]"
            ],
            "text/html": [
              "\n",
              "  <div id=\"df-98b0f25b-6e20-4934-8d86-3104f530ea7a\">\n",
              "    <div class=\"colab-df-container\">\n",
              "      <div>\n",
              "<style scoped>\n",
              "    .dataframe tbody tr th:only-of-type {\n",
              "        vertical-align: middle;\n",
              "    }\n",
              "\n",
              "    .dataframe tbody tr th {\n",
              "        vertical-align: top;\n",
              "    }\n",
              "\n",
              "    .dataframe thead th {\n",
              "        text-align: right;\n",
              "    }\n",
              "</style>\n",
              "<table border=\"1\" class=\"dataframe\">\n",
              "  <thead>\n",
              "    <tr style=\"text-align: right;\">\n",
              "      <th></th>\n",
              "      <th>Date</th>\n",
              "      <th>Open</th>\n",
              "      <th>High</th>\n",
              "      <th>Low</th>\n",
              "      <th>Close</th>\n",
              "      <th>Adj Close</th>\n",
              "      <th>Volume</th>\n",
              "    </tr>\n",
              "  </thead>\n",
              "  <tbody>\n",
              "    <tr>\n",
              "      <th>0</th>\n",
              "      <td>2017-06-20</td>\n",
              "      <td>9.63</td>\n",
              "      <td>9.65</td>\n",
              "      <td>9.62</td>\n",
              "      <td>9.64</td>\n",
              "      <td>6.708943</td>\n",
              "      <td>24095000</td>\n",
              "    </tr>\n",
              "    <tr>\n",
              "      <th>1</th>\n",
              "      <td>2017-06-21</td>\n",
              "      <td>9.62</td>\n",
              "      <td>9.64</td>\n",
              "      <td>9.55</td>\n",
              "      <td>9.59</td>\n",
              "      <td>6.674145</td>\n",
              "      <td>17090300</td>\n",
              "    </tr>\n",
              "    <tr>\n",
              "      <th>2</th>\n",
              "      <td>2017-06-22</td>\n",
              "      <td>9.56</td>\n",
              "      <td>9.60</td>\n",
              "      <td>9.51</td>\n",
              "      <td>9.58</td>\n",
              "      <td>6.667186</td>\n",
              "      <td>7971500</td>\n",
              "    </tr>\n",
              "    <tr>\n",
              "      <th>3</th>\n",
              "      <td>2017-06-23</td>\n",
              "      <td>9.58</td>\n",
              "      <td>9.60</td>\n",
              "      <td>9.58</td>\n",
              "      <td>9.60</td>\n",
              "      <td>6.681105</td>\n",
              "      <td>9432400</td>\n",
              "    </tr>\n",
              "    <tr>\n",
              "      <th>4</th>\n",
              "      <td>2017-06-26</td>\n",
              "      <td>9.60</td>\n",
              "      <td>9.60</td>\n",
              "      <td>9.60</td>\n",
              "      <td>9.60</td>\n",
              "      <td>6.681105</td>\n",
              "      <td>0</td>\n",
              "    </tr>\n",
              "    <tr>\n",
              "      <th>...</th>\n",
              "      <td>...</td>\n",
              "      <td>...</td>\n",
              "      <td>...</td>\n",
              "      <td>...</td>\n",
              "      <td>...</td>\n",
              "      <td>...</td>\n",
              "      <td>...</td>\n",
              "    </tr>\n",
              "    <tr>\n",
              "      <th>1225</th>\n",
              "      <td>2022-06-10</td>\n",
              "      <td>8.80</td>\n",
              "      <td>8.81</td>\n",
              "      <td>8.75</td>\n",
              "      <td>8.75</td>\n",
              "      <td>8.750000</td>\n",
              "      <td>5540600</td>\n",
              "    </tr>\n",
              "    <tr>\n",
              "      <th>1226</th>\n",
              "      <td>2022-06-13</td>\n",
              "      <td>8.71</td>\n",
              "      <td>8.72</td>\n",
              "      <td>8.60</td>\n",
              "      <td>8.68</td>\n",
              "      <td>8.680000</td>\n",
              "      <td>9847100</td>\n",
              "    </tr>\n",
              "    <tr>\n",
              "      <th>1227</th>\n",
              "      <td>2022-06-14</td>\n",
              "      <td>8.64</td>\n",
              "      <td>8.72</td>\n",
              "      <td>8.61</td>\n",
              "      <td>8.68</td>\n",
              "      <td>8.680000</td>\n",
              "      <td>12044600</td>\n",
              "    </tr>\n",
              "    <tr>\n",
              "      <th>1228</th>\n",
              "      <td>2022-06-15</td>\n",
              "      <td>8.68</td>\n",
              "      <td>8.69</td>\n",
              "      <td>8.60</td>\n",
              "      <td>8.63</td>\n",
              "      <td>8.630000</td>\n",
              "      <td>6405300</td>\n",
              "    </tr>\n",
              "    <tr>\n",
              "      <th>1229</th>\n",
              "      <td>2022-06-16</td>\n",
              "      <td>8.67</td>\n",
              "      <td>8.72</td>\n",
              "      <td>8.66</td>\n",
              "      <td>8.72</td>\n",
              "      <td>8.720000</td>\n",
              "      <td>5464600</td>\n",
              "    </tr>\n",
              "  </tbody>\n",
              "</table>\n",
              "<p>1230 rows × 7 columns</p>\n",
              "</div>\n",
              "      <button class=\"colab-df-convert\" onclick=\"convertToInteractive('df-98b0f25b-6e20-4934-8d86-3104f530ea7a')\"\n",
              "              title=\"Convert this dataframe to an interactive table.\"\n",
              "              style=\"display:none;\">\n",
              "        \n",
              "  <svg xmlns=\"http://www.w3.org/2000/svg\" height=\"24px\"viewBox=\"0 0 24 24\"\n",
              "       width=\"24px\">\n",
              "    <path d=\"M0 0h24v24H0V0z\" fill=\"none\"/>\n",
              "    <path d=\"M18.56 5.44l.94 2.06.94-2.06 2.06-.94-2.06-.94-.94-2.06-.94 2.06-2.06.94zm-11 1L8.5 8.5l.94-2.06 2.06-.94-2.06-.94L8.5 2.5l-.94 2.06-2.06.94zm10 10l.94 2.06.94-2.06 2.06-.94-2.06-.94-.94-2.06-.94 2.06-2.06.94z\"/><path d=\"M17.41 7.96l-1.37-1.37c-.4-.4-.92-.59-1.43-.59-.52 0-1.04.2-1.43.59L10.3 9.45l-7.72 7.72c-.78.78-.78 2.05 0 2.83L4 21.41c.39.39.9.59 1.41.59.51 0 1.02-.2 1.41-.59l7.78-7.78 2.81-2.81c.8-.78.8-2.07 0-2.86zM5.41 20L4 18.59l7.72-7.72 1.47 1.35L5.41 20z\"/>\n",
              "  </svg>\n",
              "      </button>\n",
              "      \n",
              "  <style>\n",
              "    .colab-df-container {\n",
              "      display:flex;\n",
              "      flex-wrap:wrap;\n",
              "      gap: 12px;\n",
              "    }\n",
              "\n",
              "    .colab-df-convert {\n",
              "      background-color: #E8F0FE;\n",
              "      border: none;\n",
              "      border-radius: 50%;\n",
              "      cursor: pointer;\n",
              "      display: none;\n",
              "      fill: #1967D2;\n",
              "      height: 32px;\n",
              "      padding: 0 0 0 0;\n",
              "      width: 32px;\n",
              "    }\n",
              "\n",
              "    .colab-df-convert:hover {\n",
              "      background-color: #E2EBFA;\n",
              "      box-shadow: 0px 1px 2px rgba(60, 64, 67, 0.3), 0px 1px 3px 1px rgba(60, 64, 67, 0.15);\n",
              "      fill: #174EA6;\n",
              "    }\n",
              "\n",
              "    [theme=dark] .colab-df-convert {\n",
              "      background-color: #3B4455;\n",
              "      fill: #D2E3FC;\n",
              "    }\n",
              "\n",
              "    [theme=dark] .colab-df-convert:hover {\n",
              "      background-color: #434B5C;\n",
              "      box-shadow: 0px 1px 3px 1px rgba(0, 0, 0, 0.15);\n",
              "      filter: drop-shadow(0px 1px 2px rgba(0, 0, 0, 0.3));\n",
              "      fill: #FFFFFF;\n",
              "    }\n",
              "  </style>\n",
              "\n",
              "      <script>\n",
              "        const buttonEl =\n",
              "          document.querySelector('#df-98b0f25b-6e20-4934-8d86-3104f530ea7a button.colab-df-convert');\n",
              "        buttonEl.style.display =\n",
              "          google.colab.kernel.accessAllowed ? 'block' : 'none';\n",
              "\n",
              "        async function convertToInteractive(key) {\n",
              "          const element = document.querySelector('#df-98b0f25b-6e20-4934-8d86-3104f530ea7a');\n",
              "          const dataTable =\n",
              "            await google.colab.kernel.invokeFunction('convertToInteractive',\n",
              "                                                     [key], {});\n",
              "          if (!dataTable) return;\n",
              "\n",
              "          const docLinkHtml = 'Like what you see? Visit the ' +\n",
              "            '<a target=\"_blank\" href=https://colab.research.google.com/notebooks/data_table.ipynb>data table notebook</a>'\n",
              "            + ' to learn more about interactive tables.';\n",
              "          element.innerHTML = '';\n",
              "          dataTable['output_type'] = 'display_data';\n",
              "          await google.colab.output.renderOutput(dataTable, element);\n",
              "          const docLink = document.createElement('div');\n",
              "          docLink.innerHTML = docLinkHtml;\n",
              "          element.appendChild(docLink);\n",
              "        }\n",
              "      </script>\n",
              "    </div>\n",
              "  </div>\n",
              "  "
            ]
          },
          "metadata": {},
          "execution_count": 9
        }
      ]
    },
    {
      "cell_type": "code",
      "source": [
        "# Select features (columns) to be involved intro training and predictions\n",
        "cols = list(dataset_train)[1:7]\n",
        "\n",
        "# Extract dates (will be used in visualization)\n",
        "datelist_train = list(dataset_train['Date'])\n",
        "datelist_train = [dt.datetime.strptime(date, '%Y-%m-%d').date() for date in datelist_train]\n"
      ],
      "metadata": {
        "id": "8YQZ63JZM-gy"
      },
      "execution_count": 10,
      "outputs": []
    },
    {
      "cell_type": "code",
      "source": [
        "print('Training set shape == {}'.format(dataset_train.shape))\n",
        "print('All timestamps == {}'.format(len(datelist_train)))\n",
        "print('Featured selected: {}'.format(cols))"
      ],
      "metadata": {
        "colab": {
          "base_uri": "https://localhost:8080/",
          "height": 0
        },
        "id": "2oyhHC1vO-sb",
        "outputId": "bc274860-5c1b-477b-c7e3-52ecdaa875e1"
      },
      "execution_count": 11,
      "outputs": [
        {
          "output_type": "stream",
          "name": "stdout",
          "text": [
            "Training set shape == (1230, 7)\n",
            "All timestamps == 1230\n",
            "Featured selected: ['Open', 'High', 'Low', 'Close', 'Adj Close', 'Volume']\n"
          ]
        }
      ]
    },
    {
      "cell_type": "code",
      "source": [
        "dataset_train = dataset_train[cols].astype(str)\n",
        "for i in cols:\n",
        "    for j in range(0, len(dataset_train)):\n",
        "        dataset_train[i][j] = dataset_train[i][j].replace(',', '')\n",
        "\n",
        "dataset_train = dataset_train.astype(float)"
      ],
      "metadata": {
        "id": "mfMztAmzt2KW"
      },
      "execution_count": 12,
      "outputs": []
    },
    {
      "cell_type": "code",
      "source": [
        "# Using multiple features (predictors)\n",
        "training_set = dataset_train.values\n",
        "\n",
        "training_set"
      ],
      "metadata": {
        "colab": {
          "base_uri": "https://localhost:8080/",
          "height": 0
        },
        "id": "RpSQuoSjt2N6",
        "outputId": "dfefa11e-4203-41c8-be26-27e72d93e3ec"
      },
      "execution_count": 13,
      "outputs": [
        {
          "output_type": "execute_result",
          "data": {
            "text/plain": [
              "array([[9.63000011e+00, 9.64999962e+00, 9.61999989e+00, 9.64000034e+00,\n",
              "        6.70894289e+00, 2.40950000e+07],\n",
              "       [9.61999989e+00, 9.64000034e+00, 9.55000019e+00, 9.59000015e+00,\n",
              "        6.67414522e+00, 1.70903000e+07],\n",
              "       [9.56000042e+00, 9.60000038e+00, 9.51000023e+00, 9.57999992e+00,\n",
              "        6.66718626e+00, 7.97150000e+06],\n",
              "       ...,\n",
              "       [8.64000034e+00, 8.72000027e+00, 8.60999966e+00, 8.68000031e+00,\n",
              "        8.68000031e+00, 1.20446000e+07],\n",
              "       [8.68000031e+00, 8.68999958e+00, 8.60000038e+00, 8.63000011e+00,\n",
              "        8.63000011e+00, 6.40530000e+06],\n",
              "       [8.67000008e+00, 8.72000027e+00, 8.65999985e+00, 8.72000027e+00,\n",
              "        8.72000027e+00, 5.46460000e+06]])"
            ]
          },
          "metadata": {},
          "execution_count": 13
        }
      ]
    },
    {
      "cell_type": "code",
      "source": [
        "# Feature Scaling\n",
        "from sklearn.preprocessing import StandardScaler, MinMaxScaler\n",
        "\n",
        "sc = StandardScaler()\n",
        "training_set_scaled = sc.fit_transform(training_set)\n",
        "\n",
        "sc_predict = StandardScaler()\n",
        "sc_predict.fit_transform(training_set[:, 0:1])"
      ],
      "metadata": {
        "colab": {
          "base_uri": "https://localhost:8080/",
          "height": 0
        },
        "id": "0V2npto0t2RN",
        "outputId": "1182f8c5-1c98-459b-81a6-b39fbe8e8e1a"
      },
      "execution_count": 14,
      "outputs": [
        {
          "output_type": "execute_result",
          "data": {
            "text/plain": [
              "array([[ 0.99994165],\n",
              "       [ 0.98798314],\n",
              "       [ 0.91623439],\n",
              "       ...,\n",
              "       [-0.18392304],\n",
              "       [-0.13609016],\n",
              "       [-0.14804867]])"
            ]
          },
          "metadata": {},
          "execution_count": 14
        }
      ]
    },
    {
      "cell_type": "code",
      "source": [
        "# Creating a data structure with 90 timestamps and 1 output\n",
        "X_train = []\n",
        "y_train = []\n",
        "\n",
        "n_future = 7   # Number of days we want top predict into the future\n",
        "n_past = 30     # Number of past days we want to use to predict the future\n",
        "\n",
        "for i in range(n_past, len(training_set_scaled) - n_future +1):\n",
        "    X_train.append(training_set_scaled[i - n_past:i, 0:dataset_train.shape[1] - 1])\n",
        "    y_train.append(training_set_scaled[i + n_future - 1:i + n_future, 0])\n",
        "\n",
        "X_train, y_train = np.array(X_train), np.array(y_train)\n",
        "\n",
        "print('X_train shape == {}.'.format(X_train.shape))\n",
        "print('y_train shape == {}.'.format(y_train.shape))"
      ],
      "metadata": {
        "colab": {
          "base_uri": "https://localhost:8080/",
          "height": 0
        },
        "id": "ZdEgu1cot2Ub",
        "outputId": "aeb5622a-4e03-4aa3-b47d-2101857fe4ed"
      },
      "execution_count": 15,
      "outputs": [
        {
          "output_type": "stream",
          "name": "stdout",
          "text": [
            "X_train shape == (1194, 30, 5).\n",
            "y_train shape == (1194, 1).\n"
          ]
        }
      ]
    },
    {
      "cell_type": "code",
      "source": [
        "# Import Libraries and packages from Keras\n",
        "from keras.models import Sequential\n",
        "from keras.layers import Dense\n",
        "from keras.layers import LSTM\n",
        "from keras.layers import Dropout\n",
        "from tensorflow.keras.optimizers import Adam"
      ],
      "metadata": {
        "id": "Sh6NKQykTIuK"
      },
      "execution_count": 16,
      "outputs": []
    },
    {
      "cell_type": "code",
      "source": [
        "# Initializing the Neural Network based on LSTM\n",
        "model = Sequential()\n",
        "\n",
        "# Adding 1st LSTM layer\n",
        "model.add(LSTM(units=128, return_sequences=True, input_shape=(n_past, dataset_train.shape[1]-1)))\n",
        "\n",
        "# Adding 2nd LSTM layer\n",
        "model.add(LSTM(units=64, return_sequences=False))\n",
        "\n",
        "# Adding Dropout\n",
        "model.add(Dropout(0.20))\n",
        "\n",
        "# Output layer\n",
        "model.add(Dense(units=1, activation='linear'))\n",
        "\n",
        "# Compiling the Neural Network\n",
        "model.compile(optimizer ='adam', loss='mean_squared_error',metrics=['RootMeanSquaredError'])\n",
        "model.summary()"
      ],
      "metadata": {
        "colab": {
          "base_uri": "https://localhost:8080/",
          "height": 0
        },
        "id": "t63XpCSfTLGx",
        "outputId": "e1c84f02-90ac-44e5-a847-90c582b95387"
      },
      "execution_count": 17,
      "outputs": [
        {
          "output_type": "stream",
          "name": "stdout",
          "text": [
            "Model: \"sequential\"\n",
            "_________________________________________________________________\n",
            " Layer (type)                Output Shape              Param #   \n",
            "=================================================================\n",
            " lstm (LSTM)                 (None, 30, 128)           68608     \n",
            "                                                                 \n",
            " lstm_1 (LSTM)               (None, 64)                49408     \n",
            "                                                                 \n",
            " dropout (Dropout)           (None, 64)                0         \n",
            "                                                                 \n",
            " dense (Dense)               (None, 1)                 65        \n",
            "                                                                 \n",
            "=================================================================\n",
            "Total params: 118,081\n",
            "Trainable params: 118,081\n",
            "Non-trainable params: 0\n",
            "_________________________________________________________________\n"
          ]
        }
      ]
    },
    {
      "cell_type": "code",
      "source": [
        "%%time\n",
        "es = EarlyStopping(monitor='val_loss', min_delta=1e-10, patience=10, verbose=1)\n",
        "rlr = ReduceLROnPlateau(monitor='val_loss', factor=0.5, patience=10, verbose=1)\n",
        "mcp = ModelCheckpoint(filepath='weights.h5', monitor='val_loss', verbose=1, save_best_only=True, save_weights_only=True)\n",
        "\n",
        "tb = TensorBoard('logs')\n",
        "\n",
        "history = model.fit(X_train, y_train, shuffle=True, epochs=30, callbacks=[es, rlr, mcp, tb], validation_split=0.2, verbose=1, batch_size=64)"
      ],
      "metadata": {
        "colab": {
          "base_uri": "https://localhost:8080/",
          "height": 0
        },
        "id": "HZkmJDtATZSS",
        "outputId": "80f14c85-3c74-4eaf-aaff-dd16ab8c1633"
      },
      "execution_count": 18,
      "outputs": [
        {
          "output_type": "stream",
          "name": "stdout",
          "text": [
            "Epoch 1/30\n",
            "15/15 [==============================] - ETA: 0s - loss: 0.2217 - root_mean_squared_error: 0.4708\n",
            "Epoch 1: val_loss improved from inf to 0.05304, saving model to weights.h5\n",
            "15/15 [==============================] - 6s 158ms/step - loss: 0.2217 - root_mean_squared_error: 0.4708 - val_loss: 0.0530 - val_root_mean_squared_error: 0.2303 - lr: 0.0010\n",
            "Epoch 2/30\n",
            "15/15 [==============================] - ETA: 0s - loss: 0.1270 - root_mean_squared_error: 0.3564\n",
            "Epoch 2: val_loss improved from 0.05304 to 0.03466, saving model to weights.h5\n",
            "15/15 [==============================] - 2s 164ms/step - loss: 0.1270 - root_mean_squared_error: 0.3564 - val_loss: 0.0347 - val_root_mean_squared_error: 0.1862 - lr: 0.0010\n",
            "Epoch 3/30\n",
            "15/15 [==============================] - ETA: 0s - loss: 0.1076 - root_mean_squared_error: 0.3280\n",
            "Epoch 3: val_loss did not improve from 0.03466\n",
            "15/15 [==============================] - 2s 163ms/step - loss: 0.1076 - root_mean_squared_error: 0.3280 - val_loss: 0.0420 - val_root_mean_squared_error: 0.2049 - lr: 0.0010\n",
            "Epoch 4/30\n",
            "15/15 [==============================] - ETA: 0s - loss: 0.0995 - root_mean_squared_error: 0.3154\n",
            "Epoch 4: val_loss did not improve from 0.03466\n",
            "15/15 [==============================] - 2s 155ms/step - loss: 0.0995 - root_mean_squared_error: 0.3154 - val_loss: 0.0609 - val_root_mean_squared_error: 0.2468 - lr: 0.0010\n",
            "Epoch 5/30\n",
            "15/15 [==============================] - ETA: 0s - loss: 0.1006 - root_mean_squared_error: 0.3172\n",
            "Epoch 5: val_loss did not improve from 0.03466\n",
            "15/15 [==============================] - 2s 164ms/step - loss: 0.1006 - root_mean_squared_error: 0.3172 - val_loss: 0.0597 - val_root_mean_squared_error: 0.2443 - lr: 0.0010\n",
            "Epoch 6/30\n",
            "15/15 [==============================] - ETA: 0s - loss: 0.0936 - root_mean_squared_error: 0.3060\n",
            "Epoch 6: val_loss did not improve from 0.03466\n",
            "15/15 [==============================] - 2s 167ms/step - loss: 0.0936 - root_mean_squared_error: 0.3060 - val_loss: 0.0555 - val_root_mean_squared_error: 0.2356 - lr: 0.0010\n",
            "Epoch 7/30\n",
            "15/15 [==============================] - ETA: 0s - loss: 0.0970 - root_mean_squared_error: 0.3114\n",
            "Epoch 7: val_loss did not improve from 0.03466\n",
            "15/15 [==============================] - 2s 166ms/step - loss: 0.0970 - root_mean_squared_error: 0.3114 - val_loss: 0.0645 - val_root_mean_squared_error: 0.2540 - lr: 0.0010\n",
            "Epoch 8/30\n",
            "15/15 [==============================] - ETA: 0s - loss: 0.0962 - root_mean_squared_error: 0.3101\n",
            "Epoch 8: val_loss did not improve from 0.03466\n",
            "15/15 [==============================] - 3s 184ms/step - loss: 0.0962 - root_mean_squared_error: 0.3101 - val_loss: 0.0431 - val_root_mean_squared_error: 0.2075 - lr: 0.0010\n",
            "Epoch 9/30\n",
            "15/15 [==============================] - ETA: 0s - loss: 0.0957 - root_mean_squared_error: 0.3094\n",
            "Epoch 9: val_loss did not improve from 0.03466\n",
            "15/15 [==============================] - 3s 168ms/step - loss: 0.0957 - root_mean_squared_error: 0.3094 - val_loss: 0.0546 - val_root_mean_squared_error: 0.2336 - lr: 0.0010\n",
            "Epoch 10/30\n",
            "15/15 [==============================] - ETA: 0s - loss: 0.0920 - root_mean_squared_error: 0.3033\n",
            "Epoch 10: val_loss did not improve from 0.03466\n",
            "15/15 [==============================] - 3s 171ms/step - loss: 0.0920 - root_mean_squared_error: 0.3033 - val_loss: 0.0443 - val_root_mean_squared_error: 0.2106 - lr: 0.0010\n",
            "Epoch 11/30\n",
            "15/15 [==============================] - ETA: 0s - loss: 0.0879 - root_mean_squared_error: 0.2964\n",
            "Epoch 11: val_loss did not improve from 0.03466\n",
            "15/15 [==============================] - 3s 168ms/step - loss: 0.0879 - root_mean_squared_error: 0.2964 - val_loss: 0.0476 - val_root_mean_squared_error: 0.2182 - lr: 0.0010\n",
            "Epoch 12/30\n",
            "15/15 [==============================] - ETA: 0s - loss: 0.0880 - root_mean_squared_error: 0.2966\n",
            "Epoch 12: ReduceLROnPlateau reducing learning rate to 0.0005000000237487257.\n",
            "\n",
            "Epoch 12: val_loss did not improve from 0.03466\n",
            "15/15 [==============================] - 2s 153ms/step - loss: 0.0880 - root_mean_squared_error: 0.2966 - val_loss: 0.0387 - val_root_mean_squared_error: 0.1968 - lr: 0.0010\n",
            "Epoch 12: early stopping\n",
            "CPU times: user 29.2 s, sys: 1.43 s, total: 30.6 s\n",
            "Wall time: 33.5 s\n"
          ]
        }
      ]
    },
    {
      "cell_type": "code",
      "source": [
        "\n",
        "# Generate list of sequence of days for predictions\n",
        "datelist_future = pd.date_range(datelist_train[-1], periods=n_future, freq='1d').tolist()\n",
        "\n",
        "'''\n",
        "Remeber, we have datelist_train from begining.\n",
        "'''\n",
        "\n",
        "# Convert Pandas Timestamp to Datetime object (for transformation) --> FUTURE\n",
        "datelist_future_ = []\n",
        "for this_timestamp in datelist_future:\n",
        "    datelist_future_.append(this_timestamp.date())"
      ],
      "metadata": {
        "id": "2OFDZLuDTn2q"
      },
      "execution_count": 19,
      "outputs": []
    },
    {
      "cell_type": "code",
      "source": [
        "# Perform predictions\n",
        "predictions_future = model.predict(X_train[-n_future:])\n",
        "\n",
        "predictions_train = model.predict(X_train[n_past:])"
      ],
      "metadata": {
        "id": "qtdDwrfVUG5W"
      },
      "execution_count": 20,
      "outputs": []
    },
    {
      "cell_type": "code",
      "source": [
        "# Inverse the predictions to original measurements\n",
        "\n",
        "# ---> Special function: convert <datetime.date> to <Timestamp>\n",
        "def datetime_to_timestamp(x):\n",
        "    '''\n",
        "        x : a given datetime value (datetime.date)\n",
        "    '''\n",
        "    return datetime.strptime(x.strftime('%Y%m%d'), '%Y%m%d')\n",
        "\n",
        "\n",
        "y_pred_future = sc_predict.inverse_transform(predictions_future)\n",
        "y_pred_train = sc_predict.inverse_transform(predictions_train)\n",
        "\n",
        "PREDICTIONS_FUTURE = pd.DataFrame(y_pred_future, columns=['Open']).set_index(pd.Series(datelist_future))\n",
        "PREDICTION_TRAIN = pd.DataFrame(y_pred_train, columns=['Open']).set_index(pd.Series(datelist_train[2 * n_past + n_future -1:]))\n",
        "\n",
        "# Convert <datetime.date> to <Timestamp> for PREDCITION_TRAIN\n",
        "PREDICTION_TRAIN.index = PREDICTION_TRAIN.index.to_series().apply(datetime_to_timestamp)\n",
        "\n",
        "PREDICTION_TRAIN.head(3)"
      ],
      "metadata": {
        "colab": {
          "base_uri": "https://localhost:8080/",
          "height": 143
        },
        "id": "F8SXKofrUIOu",
        "outputId": "63ce6249-b288-4d62-a834-a87f2506608e"
      },
      "execution_count": 21,
      "outputs": [
        {
          "output_type": "execute_result",
          "data": {
            "text/plain": [
              "                Open\n",
              "2017-09-21  9.585172\n",
              "2017-09-22  9.629742\n",
              "2017-09-25  9.671372"
            ],
            "text/html": [
              "\n",
              "  <div id=\"df-11ebae4a-db04-4c64-9d25-4cef7703b30a\">\n",
              "    <div class=\"colab-df-container\">\n",
              "      <div>\n",
              "<style scoped>\n",
              "    .dataframe tbody tr th:only-of-type {\n",
              "        vertical-align: middle;\n",
              "    }\n",
              "\n",
              "    .dataframe tbody tr th {\n",
              "        vertical-align: top;\n",
              "    }\n",
              "\n",
              "    .dataframe thead th {\n",
              "        text-align: right;\n",
              "    }\n",
              "</style>\n",
              "<table border=\"1\" class=\"dataframe\">\n",
              "  <thead>\n",
              "    <tr style=\"text-align: right;\">\n",
              "      <th></th>\n",
              "      <th>Open</th>\n",
              "    </tr>\n",
              "  </thead>\n",
              "  <tbody>\n",
              "    <tr>\n",
              "      <th>2017-09-21</th>\n",
              "      <td>9.585172</td>\n",
              "    </tr>\n",
              "    <tr>\n",
              "      <th>2017-09-22</th>\n",
              "      <td>9.629742</td>\n",
              "    </tr>\n",
              "    <tr>\n",
              "      <th>2017-09-25</th>\n",
              "      <td>9.671372</td>\n",
              "    </tr>\n",
              "  </tbody>\n",
              "</table>\n",
              "</div>\n",
              "      <button class=\"colab-df-convert\" onclick=\"convertToInteractive('df-11ebae4a-db04-4c64-9d25-4cef7703b30a')\"\n",
              "              title=\"Convert this dataframe to an interactive table.\"\n",
              "              style=\"display:none;\">\n",
              "        \n",
              "  <svg xmlns=\"http://www.w3.org/2000/svg\" height=\"24px\"viewBox=\"0 0 24 24\"\n",
              "       width=\"24px\">\n",
              "    <path d=\"M0 0h24v24H0V0z\" fill=\"none\"/>\n",
              "    <path d=\"M18.56 5.44l.94 2.06.94-2.06 2.06-.94-2.06-.94-.94-2.06-.94 2.06-2.06.94zm-11 1L8.5 8.5l.94-2.06 2.06-.94-2.06-.94L8.5 2.5l-.94 2.06-2.06.94zm10 10l.94 2.06.94-2.06 2.06-.94-2.06-.94-.94-2.06-.94 2.06-2.06.94z\"/><path d=\"M17.41 7.96l-1.37-1.37c-.4-.4-.92-.59-1.43-.59-.52 0-1.04.2-1.43.59L10.3 9.45l-7.72 7.72c-.78.78-.78 2.05 0 2.83L4 21.41c.39.39.9.59 1.41.59.51 0 1.02-.2 1.41-.59l7.78-7.78 2.81-2.81c.8-.78.8-2.07 0-2.86zM5.41 20L4 18.59l7.72-7.72 1.47 1.35L5.41 20z\"/>\n",
              "  </svg>\n",
              "      </button>\n",
              "      \n",
              "  <style>\n",
              "    .colab-df-container {\n",
              "      display:flex;\n",
              "      flex-wrap:wrap;\n",
              "      gap: 12px;\n",
              "    }\n",
              "\n",
              "    .colab-df-convert {\n",
              "      background-color: #E8F0FE;\n",
              "      border: none;\n",
              "      border-radius: 50%;\n",
              "      cursor: pointer;\n",
              "      display: none;\n",
              "      fill: #1967D2;\n",
              "      height: 32px;\n",
              "      padding: 0 0 0 0;\n",
              "      width: 32px;\n",
              "    }\n",
              "\n",
              "    .colab-df-convert:hover {\n",
              "      background-color: #E2EBFA;\n",
              "      box-shadow: 0px 1px 2px rgba(60, 64, 67, 0.3), 0px 1px 3px 1px rgba(60, 64, 67, 0.15);\n",
              "      fill: #174EA6;\n",
              "    }\n",
              "\n",
              "    [theme=dark] .colab-df-convert {\n",
              "      background-color: #3B4455;\n",
              "      fill: #D2E3FC;\n",
              "    }\n",
              "\n",
              "    [theme=dark] .colab-df-convert:hover {\n",
              "      background-color: #434B5C;\n",
              "      box-shadow: 0px 1px 3px 1px rgba(0, 0, 0, 0.15);\n",
              "      filter: drop-shadow(0px 1px 2px rgba(0, 0, 0, 0.3));\n",
              "      fill: #FFFFFF;\n",
              "    }\n",
              "  </style>\n",
              "\n",
              "      <script>\n",
              "        const buttonEl =\n",
              "          document.querySelector('#df-11ebae4a-db04-4c64-9d25-4cef7703b30a button.colab-df-convert');\n",
              "        buttonEl.style.display =\n",
              "          google.colab.kernel.accessAllowed ? 'block' : 'none';\n",
              "\n",
              "        async function convertToInteractive(key) {\n",
              "          const element = document.querySelector('#df-11ebae4a-db04-4c64-9d25-4cef7703b30a');\n",
              "          const dataTable =\n",
              "            await google.colab.kernel.invokeFunction('convertToInteractive',\n",
              "                                                     [key], {});\n",
              "          if (!dataTable) return;\n",
              "\n",
              "          const docLinkHtml = 'Like what you see? Visit the ' +\n",
              "            '<a target=\"_blank\" href=https://colab.research.google.com/notebooks/data_table.ipynb>data table notebook</a>'\n",
              "            + ' to learn more about interactive tables.';\n",
              "          element.innerHTML = '';\n",
              "          dataTable['output_type'] = 'display_data';\n",
              "          await google.colab.output.renderOutput(dataTable, element);\n",
              "          const docLink = document.createElement('div');\n",
              "          docLink.innerHTML = docLinkHtml;\n",
              "          element.appendChild(docLink);\n",
              "        }\n",
              "      </script>\n",
              "    </div>\n",
              "  </div>\n",
              "  "
            ]
          },
          "metadata": {},
          "execution_count": 21
        }
      ]
    },
    {
      "cell_type": "code",
      "source": [
        "# Set plot size \n",
        "from pylab import rcParams\n",
        "rcParams['figure.figsize'] = 14, 5\n",
        "\n",
        "# Plot parameters\n",
        "START_DATE_FOR_PLOTTING = '2021-01-01'"
      ],
      "metadata": {
        "id": "Hud0AGYnUKqW"
      },
      "execution_count": 22,
      "outputs": []
    },
    {
      "cell_type": "code",
      "source": [
        "# Parse training set timestamp for better visualization\n",
        "dataset_train = pd.DataFrame(dataset_train, columns=cols)\n",
        "dataset_train.index = datelist_train\n",
        "dataset_train.index = pd.to_datetime(dataset_train.index)"
      ],
      "metadata": {
        "id": "7QV4AL3CZGp8"
      },
      "execution_count": 23,
      "outputs": []
    },
    {
      "cell_type": "code",
      "source": [
        "plt.plot(PREDICTIONS_FUTURE.index, PREDICTIONS_FUTURE['Open'], color='r', label='Predicted Stock Price')\n",
        "plt.plot(PREDICTION_TRAIN.loc[START_DATE_FOR_PLOTTING:].index, PREDICTION_TRAIN.loc[START_DATE_FOR_PLOTTING:]['Open'], color='orange', label='Training predictions')\n",
        "plt.plot(dataset_train.loc[START_DATE_FOR_PLOTTING:].index, dataset_train.loc[START_DATE_FOR_PLOTTING:]['Open'], color='b', label='Actual Stock Price')\n",
        "\n",
        "plt.axvline(x = min(PREDICTIONS_FUTURE.index), color='green', linewidth=2, linestyle='--')\n",
        "\n",
        "plt.grid(which='major', color='#cccccc', alpha=0.5)\n",
        "\n",
        "plt.legend(shadow=True)\n",
        "plt.title('Predcitions and Acutal Stock Prices', fontsize=12)\n",
        "plt.xlabel('Timeline', fontsize=10)\n",
        "plt.ylabel('Stock Price Value', fontsize=10)\n",
        "plt.xticks(rotation=45, fontsize=8)\n",
        "plt.show()"
      ],
      "metadata": {
        "colab": {
          "base_uri": "https://localhost:8080/",
          "height": 370
        },
        "id": "8Ns6Ph7wZOJm",
        "outputId": "b43b7664-8daf-4704-9d09-665424867c11"
      },
      "execution_count": 24,
      "outputs": [
        {
          "output_type": "display_data",
          "data": {
            "text/plain": [
              "<Figure size 1008x360 with 1 Axes>"
            ],
            "image/png": "[encoded data removed]"
          },
          "metadata": {
            "needs_background": "light"
          }
        }
      ]
    },
    {
      "cell_type": "code",
      "source": [
        "\n"
      ],
      "metadata": {
        "id": "5wyDO6hYZQWG"
      },
      "execution_count": 24,
      "outputs": []
    },
    {
      "cell_type": "markdown",
      "source": [
        ""
      ],
      "metadata": {
        "id": "nZfCG9ROxJ0Q"
      }
    },
    {
      "cell_type": "code",
      "source": [
        "from matplotlib import pyplot\n",
        "from numpy import array"
      ],
      "metadata": {
        "id": "e7jloLUcjmvP"
      },
      "execution_count": 25,
      "outputs": []
    },
    {
      "cell_type": "code",
      "source": [
        "pyplot.plot(history.history['loss'])\n",
        "pyplot.plot(history.history['val_loss'])\n",
        "pyplot.title('training loss vs validation loss')\n",
        "pyplot.ylabel('loss')\n",
        "pyplot.xlabel('epoch')\n",
        "pyplot.legend(['train', 'validation'], loc='upper right')\n",
        "pyplot.show()"
      ],
      "metadata": {
        "colab": {
          "base_uri": "https://localhost:8080/",
          "height": 350
        },
        "id": "BXHp-KJuudmA",
        "outputId": "8767f0bd-3bb1-4340-b97f-304eb1bcd937"
      },
      "execution_count": 26,
      "outputs": [
        {
          "output_type": "display_data",
          "data": {
            "text/plain": [
              "<Figure size 1008x360 with 1 Axes>"
            ],
            "image/png": "[encoded data removed]"
          },
          "metadata": {
            "needs_background": "light"
          }
        }
      ]
    },
    {
      "cell_type": "code",
      "source": [
        "print(history.history['loss'])\n",
        "print(history.history['val_loss'])"
      ],
      "metadata": {
        "colab": {
          "base_uri": "https://localhost:8080/",
          "height": 0
        },
        "id": "9hY3QKCRn0fs",
        "outputId": "7ff07614-8765-4e09-b336-2b80fc050967"
      },
      "execution_count": 27,
      "outputs": [
        {
          "output_type": "stream",
          "name": "stdout",
          "text": [
            "[0.22168448567390442, 0.1270068883895874, 0.10755444318056107, 0.0994570255279541, 0.10060443729162216, 0.09362826496362686, 0.09696577489376068, 0.09615781903266907, 0.09573829919099808, 0.09202086925506592, 0.0878659337759018, 0.0879887118935585]\n",
            "[0.053035277873277664, 0.03466012701392174, 0.04200174659490585, 0.060926176607608795, 0.05966247245669365, 0.05552414804697037, 0.0645345076918602, 0.04306359216570854, 0.054565779864788055, 0.044347379356622696, 0.04763170704245567, 0.03874420002102852]\n"
          ]
        }
      ]
    },
    {
      "cell_type": "code",
      "source": [
        "print(history.history['root_mean_squared_error'])\n",
        "print(history.history['val_root_mean_squared_error'])"
      ],
      "metadata": {
        "colab": {
          "base_uri": "https://localhost:8080/",
          "height": 0
        },
        "id": "eWFl2hUIfXpd",
        "outputId": "1105ec9a-95ee-4e8e-f3fe-1052f3258b3b"
      },
      "execution_count": 28,
      "outputs": [
        {
          "output_type": "stream",
          "name": "stdout",
          "text": [
            "[0.47083380818367004, 0.35638025403022766, 0.3279549479484558, 0.31536808609962463, 0.3171820342540741, 0.3059873580932617, 0.31139329075813293, 0.3100932538509369, 0.3094160556793213, 0.30334940552711487, 0.2964218854904175, 0.2966289222240448]\n",
            "[0.2302938997745514, 0.18617230653762817, 0.20494326949119568, 0.24683228135108948, 0.2442590296268463, 0.23563562333583832, 0.25403642654418945, 0.20751769840717316, 0.2335931956768036, 0.21058817207813263, 0.21824689209461212, 0.196835458278656]\n"
          ]
        }
      ]
    }
  ]
}